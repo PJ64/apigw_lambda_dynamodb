{
 "cells": [
  {
   "cell_type": "markdown",
   "metadata": {},
   "source": [
    "## Amazon API Gateway, AWS Lambda and Amazon DynamoDB"
   ]
  },
  {
   "cell_type": "markdown",
   "metadata": {},
   "source": [
    "This example deploys an Amazon API Gateway, AWS Lambda functions and an Amazon DynamoDB table using the AWS CDK and TypeScript. The AWS Lambda functions are deployed behind an Amazon API Gateway and execute for CRUD operations against Amazon DynamoDB. The Amazon DynamoDB table is partitioned on an accountid attribute and also includes a sort key on the vendorid attribute, together they form the primary key."
   ]
  },
  {
   "cell_type": "markdown",
   "metadata": {},
   "source": [
    "![architecture](../images/architecture_1.png \"Architecture\")"
   ]
  },
  {
   "cell_type": "markdown",
   "metadata": {},
   "source": [
    "**Jupyter Notebook Scripts**\n",
    "1.\tThe *Post Order* script create orders and posts them to the Amazon API Gateway\n",
    "\n",
    "2.\tThe *json formatter* script creates a json formatter object which is used to render the json results.\n",
    "\n",
    "3.\tThe *Get Order* script passes query string parameters to a Lambda function using the API Gateway. The function returns items that match the parameters\n",
    "\n",
    "4.\tThe *Update Order* script, updates multiple items in the table.\n",
    "\n",
    "5.\tThe *Get Updated Order* script is used again to validate the update operation.\n",
    "\n",
    "6.\tThe Delete Order script is used to delete items from the DynamoDB table.\n",
    "\n",
    "7.\tThe final Get Order script is used to validate the delete operation.\n",
    "\n",
    "\n",
    "**Note:** Make sure you set **gwid** to your gateway id using - *gwid = '...'*\n",
    "\n",
    "**Post Order**"
   ]
  },
  {
   "cell_type": "code",
   "execution_count": null,
   "metadata": {},
   "outputs": [],
   "source": [
    "import boto3, requests, datetime\n",
    "\n",
    "#Set gateway id\n",
    "gwid = 'smz7s32gkj'\n",
    "\n",
    "url = (f'https://{gwid}.execute-api.ap-southeast-2.amazonaws.com/prod/putorder')\n",
    "\n",
    "for i in range(5):\n",
    "    x = datetime.datetime.now()\n",
    "    accountid = 'a' + str(i)\n",
    "    vendorid = 'v' + str(i)\n",
    "    orderdate = str(x)\n",
    "    coffeetype = 'Short Black'\n",
    "    coffeesize = 'Small'\n",
    "    unitprice = str(4.50 * (i+1))\n",
    "    quantity = str(i+1)\n",
    "\n",
    "    response = requests.post(url,json={'order':{\n",
    "                'accountid': accountid,\n",
    "                'vendorid': vendorid,\n",
    "                'orderdate':orderdate,\n",
    "                'details':{\n",
    "                    'coffeetype': coffeetype,\n",
    "                    'coffeesize': coffeesize,\n",
    "                    'unitprice': unitprice,\n",
    "                    'quantity': quantity\n",
    "                }\n",
    "            }\n",
    "        })\n",
    "    print(str(accountid) + ':' + str(vendorid))"
   ]
  },
  {
   "cell_type": "markdown",
   "metadata": {},
   "source": [
    "**json formatter** - The following script create a class display nicely formatted json data"
   ]
  },
  {
   "cell_type": "code",
   "execution_count": null,
   "metadata": {},
   "outputs": [],
   "source": [
    "import json, uuid\n",
    "from IPython.display import display_javascript, display_html, display\n",
    "\n",
    "class RenderJSON(object):\n",
    "    def __init__(self, json_data):\n",
    "        if isinstance(json_data, dict) or isinstance(json_data, list):\n",
    "            self.json_str = json.dumps(json_data)\n",
    "        else:\n",
    "            self.json_str = json_data\n",
    "        self.uuid = str(uuid.uuid4())\n",
    "\n",
    "    def _ipython_display_(self):\n",
    "        display_html('<div id=\"{}\" style=\"height: 600px; width:100%;font: 12px/18px monospace !important;\"></div>'.format(self.uuid), raw=True)\n",
    "        display_javascript(\"\"\"\n",
    "        require([\"https://rawgit.com/caldwell/renderjson/master/renderjson.js\"], function() {\n",
    "            renderjson.set_show_to_level(2);\n",
    "            document.getElementById('%s').appendChild(renderjson(%s))\n",
    "        });\n",
    "      \"\"\" % (self.uuid, self.json_str), raw=True)"
   ]
  },
  {
   "cell_type": "markdown",
   "metadata": {},
   "source": [
    "**Get Order** from Amazon DynamoDB using the primary key (accountid & vendorid)"
   ]
  },
  {
   "cell_type": "code",
   "execution_count": null,
   "metadata": {},
   "outputs": [],
   "source": [
    "get_url = (f'https://{gwid}.execute-api.ap-southeast-2.amazonaws.com/prod/getorder')\n",
    "\n",
    "response_get = requests.get(get_url, params={'accountid':'a0','vendorid':'v0'})\n",
    "\n",
    "RenderJSON(response_get.json())"
   ]
  },
  {
   "cell_type": "markdown",
   "metadata": {},
   "source": [
    "**Update Order** in Amazon DynamoDB"
   ]
  },
  {
   "cell_type": "code",
   "execution_count": null,
   "metadata": {},
   "outputs": [],
   "source": [
    "update_url = (f'https://{gwid}.execute-api.ap-southeast-2.amazonaws.com/prod/updateorder')\n",
    "\n",
    "\n",
    "for i in range(2):\n",
    "    x = datetime.datetime.now()\n",
    "    accountid = 'a' + str(i)\n",
    "    vendorid = 'v' + str(i)\n",
    "    orderdate = str(x)\n",
    "    coffeetype = 'Flat white'\n",
    "    coffeesize = 'Medium'\n",
    "    unitprice = str(4.50 * (i+2))\n",
    "    quantity = str(i+2)\n",
    "\n",
    "    response = requests.post(update_url,json={'order':{\n",
    "                'accountid': accountid,\n",
    "                'vendorid': vendorid,\n",
    "                'orderdate':orderdate,\n",
    "                'details':{\n",
    "                    'coffeetype': coffeetype,\n",
    "                    'coffeesize': coffeesize,\n",
    "                    'unitprice': unitprice,\n",
    "                    'quantity': quantity\n",
    "                }\n",
    "            }\n",
    "        })\n",
    "    print(str(accountid) + ':' + str(vendorid))"
   ]
  },
  {
   "cell_type": "markdown",
   "metadata": {},
   "source": [
    "**Get Updated Order** from Amazon DynamoDB using the primary key (accountid & vendorid)"
   ]
  },
  {
   "cell_type": "code",
   "execution_count": null,
   "metadata": {},
   "outputs": [],
   "source": [
    "get_url = (f'https://{gwid}.execute-api.ap-southeast-2.amazonaws.com/prod/getorder')\n",
    "\n",
    "response_get = requests.get(get_url, params={'accountid':'a0','vendorid':'v0'})\n",
    "\n",
    "RenderJSON(response_get.json())"
   ]
  },
  {
   "cell_type": "markdown",
   "metadata": {},
   "source": [
    "**Delete Order** the order form Amazon DynamoDB"
   ]
  },
  {
   "cell_type": "code",
   "execution_count": null,
   "metadata": {},
   "outputs": [],
   "source": [
    "delete_url = (f'https://{gwid}.execute-api.ap-southeast-2.amazonaws.com/prod/deleteorder')\n",
    "\n",
    "response = requests.post(delete_url,json={'order':{'accountid':'a0','vendorid':'v0'}})\n",
    "\n",
    "RenderJSON(response_get.json())"
   ]
  },
  {
   "cell_type": "markdown",
   "metadata": {},
   "source": [
    "**Check Deleted** items in Amazon DynamoDB"
   ]
  },
  {
   "cell_type": "code",
   "execution_count": null,
   "metadata": {},
   "outputs": [],
   "source": [
    "get_url = (f'https://{gwid}.execute-api.ap-southeast-2.amazonaws.com/prod/getorder')\n",
    "\n",
    "response_get = requests.get(get_url, params={'accountid':'a0','vendorid':'v0'})\n",
    "\n",
    "RenderJSON(response_get.json())"
   ]
  }
 ],
 "metadata": {
  "kernelspec": {
   "display_name": "Python 3",
   "language": "python",
   "name": "python3"
  },
  "language_info": {
   "codemirror_mode": {
    "name": "ipython",
    "version": 3
   },
   "file_extension": ".py",
   "mimetype": "text/x-python",
   "name": "python",
   "nbconvert_exporter": "python",
   "pygments_lexer": "ipython3",
   "version": "3.8.5"
  }
 },
 "nbformat": 4,
 "nbformat_minor": 4
}
