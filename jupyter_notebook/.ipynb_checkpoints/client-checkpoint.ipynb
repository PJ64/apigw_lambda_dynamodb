{
 "cells": [
  {
   "cell_type": "markdown",
   "metadata": {},
   "source": [
    "## Amazon API Gateway, AWS Lambda and Amazon DynamoDB"
   ]
  },
  {
   "cell_type": "markdown",
   "metadata": {},
   "source": [
    "This example deploys an Amazon API Gateway, AWS Lambda functions and an Amazon DynamoDB table using the AWS CDK and TypeScript. The AWS Lambda functions are deployed behind an Amazon API Gateway and are used to execute CRUD operations against Amazon DynamoDB. The Amazon DynamoDB table is partitioned on an accountid attribute and also includes a sort key on the vendorid attribute, together they form the primary key. The example also demonstrates using Python to put, update, get and delete items in Amazon DynamoDB. A Lambda layer is deployed which includes a python module used to capture order details as metrics. The final part of the demonstration uses CloudWatch Log Insights to view the captured metrics."
   ]
  },
  {
   "cell_type": "markdown",
   "metadata": {},
   "source": [
    "![architecture](../images/architecture_1.png \"Architecture\")"
   ]
  },
  {
   "cell_type": "markdown",
   "metadata": {},
   "source": [
    "**Jupyter Notebook Scripts**\n",
    "1.\tThe *Post Order* script create orders and posts them to the Amazon API Gateway\n",
    "\n",
    "2.\tThe *json formatter* script creates a json formatter object which is used to render the json results.\n",
    "\n",
    "3.\tThe *Get Order* script passes query string parameters to a Lambda function using the API Gateway. The function returns items that match the parameters\n",
    "\n",
    "4.\tThe *Update Order* script, updates multiple items in the table.\n",
    "\n",
    "5.\tThe *Get Updated Order* script is used again to validate the update operation.\n",
    "\n",
    "6.\tThe *Delete Order* script is used to delete items from the DynamoDB table.\n",
    "\n",
    "7.\tThe *Get Order* script is used to validate the delete operation.\n",
    "\n",
    "8.  The final part of the demonstration uses CloudWatch Log Insights to view the captured metrics.\n",
    "\n",
    "\n",
    "**Note:** Make sure you set **gwid** to your gateway id using - *gwid = '...'*\n",
    "\n",
    "**Post Order**"
   ]
  },
  {
   "cell_type": "code",
   "execution_count": 1,
   "metadata": {},
   "outputs": [
    {
     "name": "stdout",
     "output_type": "stream",
     "text": [
      "<Response [200]>\n"
     ]
    }
   ],
   "source": [
    "import boto3, requests, datetime\n",
    "from random import randrange\n",
    "\n",
    "#Set gateway id\n",
    "gwid = '...'\n",
    "\n",
    "city_list=[\"Adelaide\",\"Brisbane\",\"Canberra\",\"Darwin\",\"Geelong\",\"Gold Coast\",\"Hobart\",\"Melbourne\",\"Perth\",\"Sydney\",\"Wollongong\"]\n",
    "coffeetype_list=[\"Short Black\",\"Flat White\",\"Latte\",\"Long Black\"]\n",
    "coffeesize_list=[{\"size\":\"Small\",\"price\":\"3.5\"},{\"size\":\"Medium\",\"price\":\"4.0\"},{\"size\":\"Large\",\"price\":\"4.5\"},{\"size\":\"x-Large\",\"price\":\"5.0\"}]\n",
    "\n",
    "url = (f'https://{gwid}.execute-api.ap-southeast-2.amazonaws.com/prod/putorder')\n",
    "\n",
    "for i in range(10): #By increasing this counter you will generate more insteresting statistics for log insights\n",
    "    accountid = 'a' + str(i)\n",
    "    vendorid = 'v' + str(i)\n",
    "    orderdate = str(datetime.datetime.now())\n",
    "    \n",
    "    #Original value-----------\n",
    "    coffeesize = randrange(4)\n",
    "    #-------------------------\n",
    "\n",
    "    quantity = randrange(10)+1\n",
    "    city = city_list[randrange(11)]\n",
    "    eventtype=\"new_order\"\n",
    "    response = requests.post(url,json={'order':{\n",
    "            'accountid': accountid,\n",
    "            'orderdate':orderdate,\n",
    "            'vendorid': vendorid,\n",
    "            'city':city,\n",
    "            'details':{\n",
    "                'coffeetype': coffeetype_list[randrange(4)],\n",
    "                'coffeesize': coffeesize_list[coffeesize][\"size\"],\n",
    "                'unitprice': coffeesize_list[coffeesize][\"price\"],\n",
    "                'quantity': quantity\n",
    "            },\n",
    "            'eventtype':[eventtype]\n",
    "        }\n",
    "    })\n",
    "\n",
    "print(response)"
   ]
  },
  {
   "cell_type": "markdown",
   "metadata": {},
   "source": [
    "**json formatter** - The following script create a class display nicely formatted json data"
   ]
  },
  {
   "cell_type": "code",
   "execution_count": null,
   "metadata": {},
   "outputs": [],
   "source": [
    "import json, uuid\n",
    "from IPython.display import display_javascript, display_html, display\n",
    "\n",
    "class RenderJSON(object):\n",
    "    def __init__(self, json_data):\n",
    "        if isinstance(json_data, dict) or isinstance(json_data, list):\n",
    "            self.json_str = json.dumps(json_data)\n",
    "        else:\n",
    "            self.json_str = json_data\n",
    "        self.uuid = str(uuid.uuid4())\n",
    "\n",
    "    def _ipython_display_(self):\n",
    "        display_html('<div id=\"{}\" style=\"height: 600px; width:100%;font: 12px/18px monospace !important;\"></div>'.format(self.uuid), raw=True)\n",
    "        display_javascript(\"\"\"\n",
    "        require([\"https://rawgit.com/caldwell/renderjson/master/renderjson.js\"], function() {\n",
    "            renderjson.set_show_to_level(2);\n",
    "            document.getElementById('%s').appendChild(renderjson(%s))\n",
    "        });\n",
    "      \"\"\" % (self.uuid, self.json_str), raw=True)"
   ]
  },
  {
   "cell_type": "markdown",
   "metadata": {},
   "source": [
    "**Get Order** from Amazon DynamoDB using the primary key (accountid & vendorid)"
   ]
  },
  {
   "cell_type": "code",
   "execution_count": null,
   "metadata": {},
   "outputs": [],
   "source": [
    "get_url = (f'https://{gwid}.execute-api.ap-southeast-2.amazonaws.com/prod/getorder')\n",
    "\n",
    "response_get = requests.get(get_url, params={'accountid':'a0','vendorid':'v0'})\n",
    "\n",
    "RenderJSON(response_get.json())"
   ]
  },
  {
   "cell_type": "markdown",
   "metadata": {},
   "source": [
    "**Update Order**. Update the first 10 orders to Small Flat White."
   ]
  },
  {
   "cell_type": "code",
   "execution_count": null,
   "metadata": {},
   "outputs": [],
   "source": [
    "update_url = (f'https://{gwid}.execute-api.ap-southeast-2.amazonaws.com/prod/updateorder')\n",
    "\n",
    "\n",
    "for i in range(10):\n",
    "    accountid = 'a' + str(i)\n",
    "    vendorid = 'v' + str(i)\n",
    "    orderdate = str(datetime.datetime.now())\n",
    "    \n",
    "    #updated value------------\n",
    "    coffeetype = 'Flat white'\n",
    "    coffeesize = 'Small'\n",
    "    #-------------------------\n",
    "    \n",
    "    unitprice = \"4.50\"\n",
    "    quantity = 1\n",
    "    city = city_list[i]\n",
    "    eventtype=\"update_order\"\n",
    "    response = requests.post(url,json={'order':{\n",
    "            'accountid': accountid,\n",
    "            'orderdate':orderdate,\n",
    "            'vendorid': vendorid,\n",
    "            'city':city,\n",
    "            'details':{\n",
    "                'coffeetype': coffeetype,\n",
    "                'coffeesize': coffeesize,\n",
    "                'unitprice': unitprice,\n",
    "                'quantity': quantity\n",
    "            },\n",
    "            'eventtype':[eventtype]\n",
    "        }\n",
    "    })\n",
    "\n",
    "print(response)"
   ]
  },
  {
   "cell_type": "markdown",
   "metadata": {},
   "source": [
    "**Get Updated Order** from Amazon DynamoDB using the primary key (accountid & vendorid)"
   ]
  },
  {
   "cell_type": "code",
   "execution_count": null,
   "metadata": {},
   "outputs": [],
   "source": [
    "get_url = (f'https://{gwid}.execute-api.ap-southeast-2.amazonaws.com/prod/getorder')\n",
    "\n",
    "response_get = requests.get(get_url, params={'accountid':'a0','vendorid':'v0'})\n",
    "\n",
    "RenderJSON(response_get.json())"
   ]
  },
  {
   "cell_type": "markdown",
   "metadata": {},
   "source": [
    "**Delete Order** the order form Amazon DynamoDB"
   ]
  },
  {
   "cell_type": "code",
   "execution_count": null,
   "metadata": {},
   "outputs": [],
   "source": [
    "delete_url = (f'https://{gwid}.execute-api.ap-southeast-2.amazonaws.com/prod/deleteorder')\n",
    "\n",
    "response = requests.post(delete_url,json={'order':{'accountid':'a0','vendorid':'v0'}})\n",
    "\n",
    "RenderJSON(response_get.json())"
   ]
  },
  {
   "cell_type": "markdown",
   "metadata": {},
   "source": [
    "**Check Deleted** items in Amazon DynamoDB"
   ]
  },
  {
   "cell_type": "code",
   "execution_count": null,
   "metadata": {},
   "outputs": [],
   "source": [
    "get_url = (f'https://{gwid}.execute-api.ap-southeast-2.amazonaws.com/prod/getorder')\n",
    "\n",
    "response_get = requests.get(get_url, params={'accountid':'a0','vendorid':'v0'})\n",
    "\n",
    "RenderJSON(response_get.json())"
   ]
  },
  {
   "cell_type": "markdown",
   "metadata": {},
   "source": [
    "**CloudWatch Log Insights**. Using CloudWatch Log Instight, filter the /aws/lambda/apigw_Lambda_dynamodb_put_item log with the following queries. Remember that the queries run against the log file not the table.\n",
    "\n",
    "**Flat White count**\n",
    "```\n",
    "fields @timestamp, @message, coffeetype\n",
    "| filter (coffeetype=\"Flat White\")\n",
    "| stats count(coffeetype)\n",
    "```\n",
    "\n",
    "**Flat White count in Hobart**\n",
    "```\n",
    "fields @timestamp, @message, coffeetype\n",
    "| filter (coffeetype=\"Flat White\") and (city=\"Hobart\")\n",
    "| stats count(coffeetype)\n",
    "```\n",
    "\n",
    "**Small coffee count and Samll avg**\n",
    "```\n",
    "fields @timestamp, @message, coffeetype, coffeesize\n",
    "| filter (coffeesize=\"Small\")\n",
    "| stats count(coffeetype), avg(quantity)\n",
    "```"
   ]
  },
  {
   "cell_type": "code",
   "execution_count": null,
   "metadata": {},
   "outputs": [],
   "source": []
  }
 ],
 "metadata": {
  "kernelspec": {
   "display_name": "Python 3",
   "language": "python",
   "name": "python3"
  },
  "language_info": {
   "codemirror_mode": {
    "name": "ipython",
    "version": 3
   },
   "file_extension": ".py",
   "mimetype": "text/x-python",
   "name": "python",
   "nbconvert_exporter": "python",
   "pygments_lexer": "ipython3",
   "version": "3.8.5"
  }
 },
 "nbformat": 4,
 "nbformat_minor": 4
}
